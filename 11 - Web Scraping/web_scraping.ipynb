{
 "cells": [
  {
   "cell_type": "markdown",
   "metadata": {},
   "source": [
    "# Web Scraping"
   ]
  },
  {
   "cell_type": "code",
   "execution_count": 6,
   "metadata": {},
   "outputs": [
    {
     "name": "stdout",
     "output_type": "stream",
     "text": [
      "Beautiful soup 4.11.1\n",
      "Urllib 3.10\n",
      "Pandas 1.5.3\n"
     ]
    }
   ],
   "source": [
    "from bs4 import BeautifulSoup\n",
    "from urllib.request import urlopen\n",
    "import pandas\n",
    "\n",
    "print('Beautiful soup',bs4.__version__)\n",
    "print('Urllib',urllib_request.__version__)\n",
    "print('Pandas',pandas.__version__)"
   ]
  },
  {
   "cell_type": "code",
   "execution_count": 27,
   "metadata": {},
   "outputs": [
    {
     "name": "stdout",
     "output_type": "stream",
     "text": [
      "O nome do autor do artigo é: \n",
      "\n",
      "        MARINHO, Eduardo Ribeiro\n"
     ]
    }
   ],
   "source": [
    "url = 'https://oasisbr.ibict.br/vufind/Record/UFRA-1_9881405c2dfe1582b80e7ceb63632c1f#details'\n",
    "\n",
    "response = urlopen(url)\n",
    "html = response.read()\n",
    "\n",
    "soup = BeautifulSoup(html,'html.parser')\n",
    "\n",
    "autor = soup.find('td').get_text()\n",
    "\n",
    "print('O nome do autor do artigo é:',autor)"
   ]
  },
  {
   "cell_type": "code",
   "execution_count": null,
   "metadata": {},
   "outputs": [],
   "source": []
  }
 ],
 "metadata": {
  "kernelspec": {
   "display_name": "Python 3",
   "language": "python",
   "name": "python3"
  },
  "language_info": {
   "codemirror_mode": {
    "name": "ipython",
    "version": 3
   },
   "file_extension": ".py",
   "mimetype": "text/x-python",
   "name": "python",
   "nbconvert_exporter": "python",
   "pygments_lexer": "ipython3",
   "version": "3.10.6"
  },
  "orig_nbformat": 4
 },
 "nbformat": 4,
 "nbformat_minor": 2
}
